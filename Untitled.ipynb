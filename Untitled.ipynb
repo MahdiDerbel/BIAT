{
 "cells": [
  {
   "cell_type": "code",
   "execution_count": 84,
   "id": "ebe7db1e",
   "metadata": {},
   "outputs": [
    {
     "name": "stdout",
     "output_type": "stream",
     "text": [
      "\n",
      "Suite C  un renforcement de la sC)curitC) de votre site BIATNET, veuillez mettre C  jour votre navigateur Web en cas de problC(me db \u0019accC(s C  lb \u0019affichage de la page principale\n",
      " \n",
      "Mme BEN AMOR DORSAF\t\n",
      " \n",
      " \n",
      " \n",
      "Comptes / Placements\n",
      "Virements\n",
      "TC)lC)chargement\n",
      "Portefeuille\n",
      "International\n",
      "Autres\n",
      " \n",
      ".././plaf/images/BIAT/new/BiatEpargneDisponible.jpg\n",
      "\n",
      " \n",
      "Extrait de compte\t\n",
      "Compte numC)ro :\t51-10-97887/3\tSTE OPALIA PHARMA S.\n",
      "Devise :\tTND\n",
      "Date valeur\t\n",
      "LibellC) opC)ration\t\n",
      "RC)fC)rence\t\n",
      "Date opC)ration\t\n",
      "Montant\t\n",
      "Solde dC)part au 28 JUN 22\t\t\t6 823 602,507\n",
      "28 JUN 22\tTVA sur Com\tCHG22179WON5O\t28 JUN 22\t-1,900\n",
      "\t\t\n",
      "28 JUN 22\tCOM DOM TCE\tCHG22179WON5O\t28 JUN 22\t-10,000\n",
      "29 JUN 22\tEncaissement effet tunisie\tFT22179504113046\\S98\t28 JUN 22\t25 445,101\n",
      "009344500529\t\t\t\n",
      "29 JUN 22\tEncaissement effet tunisie\tFT22179598886344\\S98\t28 JUN 22\t192 197,564\n",
      "009140366260\t\t\t\n",
      "27 JUN 22\tReglement cheque no\tFT22179034703388\t28 JUN 22\t-6 000,000\n",
      "0001277 F/ AS TN DERMATOLOGIE\t\t\t\n",
      "VENEROLOGI\t\t\t\n",
      "30 JUN 22\tCredit Divers\tFT22180500696836\t29 JUN 22\t99 763,824\n",
      "Chq Telec A Enc Cre Global/borde : 2980894\t\t\t\n",
      "24 JUN 22\tDebit Divers\tFT22180902234108\t29 JUN 22\t-1,785\n",
      "Commission CHQ A Enc/Bordereau : 2980894\t\t\t\n",
      "28 JUN 22\tReglement cheque no\tFT22180830828911\t29 JUN 22\t-252,999\n",
      "0001288 F/ SOCIETE 4MK DIGITAL\t\t\t\n",
      "PRINT\t\t\t\n",
      "29 JUN 22\tBlocage de fonds\tFT22180774000390\t29 JUN 22\t-12 851,173\n",
      "RI2217900156 **\t\t\t\n",
      "Solde fin au 29 JUN 22 C  10:00\t\t\t7 121 891,139\n",
      "Solde disponible au 29 JUN 22 C  10:00\t\t\t7 121 891,139\n",
      "Sauf erreur ou omission de notre part\t\t\t\n",
      "\n",
      "BIATB) 2015. Tous les droits sont rC)servC)s.\n"
     ]
    }
   ],
   "source": [
    "f = open(\"BIAT.txt\", \"r\")\n",
    "print(f.read())"
   ]
  },
  {
   "cell_type": "code",
   "execution_count": 151,
   "id": "d020907e",
   "metadata": {
    "scrolled": true
   },
   "outputs": [
    {
     "name": "stdout",
     "output_type": "stream",
     "text": [
      "['', 'Suite C  un renforcement de la sC)curitC) de votre site BIATNET, veuillez mettre C  jour votre navigateur Web en cas de problC(me db \\x19accC(s C  lb \\x19affichage de la page principale', ' ', 'Mme BEN AMOR DORSAF\\t', ' ', ' ', ' ', 'Comptes / Placements', 'Virements', 'TC)lC)chargement', 'Portefeuille', 'International', 'Autres', ' ', '.././plaf/images/BIAT/new/BiatEpargneDisponible.jpg', '', ' ', 'Extrait de compte\\t', 'Compte numC)ro :\\t51-10-97887/3\\tSTE OPALIA PHARMA S.', 'Devise :\\tTND', 'Date valeur\\t', 'LibellC) opC)ration\\t', 'RC)fC)rence\\t', 'Date opC)ration\\t', 'Montant\\t', 'Solde dC)part au 28 JUN 22\\t\\t\\t6 823 602,507', '28 JUN 22\\tTVA sur Com\\tCHG22179WON5O\\t28 JUN 22\\t-1,900', 'REF : NUM TCE : 6088602\\t\\t\\t', '28 JUN 22\\tCOM DOM TCE\\tCHG22179WON5O\\t28 JUN 22\\t-10,000', '29 JUN 22\\tEncaissement effet tunisie\\tFT22179504113046\\\\S98\\t28 JUN 22\\t25 445,101', '009344500529\\t\\t\\t', '29 JUN 22\\tEncaissement effet tunisie\\tFT22179598886344\\\\S98\\t28 JUN 22\\t192 197,564', '009140366260\\t\\t\\t', '27 JUN 22\\tReglement cheque no\\tFT22179034703388\\t28 JUN 22\\t-6 000,000', '0001277 F/ AS TN DERMATOLOGIE\\t\\t\\t', 'VENEROLOGI\\t\\t\\t', '30 JUN 22\\tCredit Divers\\tFT22180500696836\\t29 JUN 22\\t99 763,824', 'Chq Telec A Enc Cre Global/borde : 2980894\\t\\t\\t', '24 JUN 22\\tDebit Divers\\tFT22180902234108\\t29 JUN 22\\t-1,785', 'Commission CHQ A Enc/Bordereau : 2980894\\t\\t\\t', '28 JUN 22\\tReglement cheque no\\tFT22180830828911\\t29 JUN 22\\t-252,999', '0001288 F/ SOCIETE 4MK DIGITAL\\t\\t\\t', 'PRINT\\t\\t\\t', '29 JUN 22\\tBlocage de fonds\\tFT22180774000390\\t29 JUN 22\\t-12 851,173', 'RI2217900156 **\\t\\t\\t', 'Solde fin au 29 JUN 22 C  10:00\\t\\t\\t7 121 891,139', 'Solde disponible au 29 JUN 22 C  10:00\\t\\t\\t7 121 891,139', 'Sauf erreur ou omission de notre part\\t\\t\\t', '', 'BIATB) 2015. Tous les droits sont rC)servC)s.']\n"
     ]
    }
   ],
   "source": [
    "file_obj = open(\"BIAT.txt\", \"r\")\n",
    "  \n",
    "# reading the data from the file\n",
    "file_data = file_obj.read()\n",
    "  \n",
    "# splitting the file data into lines\n",
    "lines = file_data.splitlines()\n",
    "print(lines)\n",
    "file_obj.close()"
   ]
  },
  {
   "cell_type": "code",
   "execution_count": 2,
   "id": "842fff22",
   "metadata": {},
   "outputs": [
    {
     "data": {
      "text/plain": [
       "'Sauf erreur ou omission de notre part\\t\\t\\t'"
      ]
     },
     "execution_count": 2,
     "metadata": {},
     "output_type": "execute_result"
    }
   ],
   "source": [
    "lines[47]"
   ]
  },
  {
   "cell_type": "code",
   "execution_count": 86,
   "id": "a42151cd",
   "metadata": {},
   "outputs": [
    {
     "data": {
      "text/plain": [
       "24"
      ]
     },
     "execution_count": 86,
     "metadata": {},
     "output_type": "execute_result"
    }
   ],
   "source": [
    "lines.index('Montant\\t')"
   ]
  },
  {
   "cell_type": "code",
   "execution_count": 218,
   "id": "6288a73c",
   "metadata": {},
   "outputs": [],
   "source": [
    "import pandas as pd\n",
    "import openpyxl"
   ]
  },
  {
   "cell_type": "code",
   "execution_count": 245,
   "id": "ee5f4bbd",
   "metadata": {},
   "outputs": [],
   "source": [
    "df = pd.DataFrame()"
   ]
  },
  {
   "cell_type": "code",
   "execution_count": 246,
   "id": "a4823f33",
   "metadata": {
    "scrolled": true
   },
   "outputs": [
    {
     "data": {
      "text/html": [
       "<div>\n",
       "<style scoped>\n",
       "    .dataframe tbody tr th:only-of-type {\n",
       "        vertical-align: middle;\n",
       "    }\n",
       "\n",
       "    .dataframe tbody tr th {\n",
       "        vertical-align: top;\n",
       "    }\n",
       "\n",
       "    .dataframe thead th {\n",
       "        text-align: right;\n",
       "    }\n",
       "</style>\n",
       "<table border=\"1\" class=\"dataframe\">\n",
       "  <thead>\n",
       "    <tr style=\"text-align: right;\">\n",
       "      <th></th>\n",
       "    </tr>\n",
       "  </thead>\n",
       "  <tbody>\n",
       "  </tbody>\n",
       "</table>\n",
       "</div>"
      ],
      "text/plain": [
       "Empty DataFrame\n",
       "Columns: []\n",
       "Index: []"
      ]
     },
     "execution_count": 246,
     "metadata": {},
     "output_type": "execute_result"
    }
   ],
   "source": [
    "df"
   ]
  },
  {
   "cell_type": "code",
   "execution_count": 80,
   "id": "01a19b12",
   "metadata": {},
   "outputs": [],
   "source": [
    "index=lines.index('Montant\\t')"
   ]
  },
  {
   "cell_type": "code",
   "execution_count": 81,
   "id": "f52f702e",
   "metadata": {},
   "outputs": [
    {
     "data": {
      "text/plain": [
       "['REF : NUM TCE : 6088602', '', '', '']"
      ]
     },
     "execution_count": 81,
     "metadata": {},
     "output_type": "execute_result"
    }
   ],
   "source": [
    "lines[index+3].split('\\t')"
   ]
  },
  {
   "cell_type": "code",
   "execution_count": 124,
   "id": "7d97b889",
   "metadata": {},
   "outputs": [
    {
     "data": {
      "text/html": [
       "<div>\n",
       "<style scoped>\n",
       "    .dataframe tbody tr th:only-of-type {\n",
       "        vertical-align: middle;\n",
       "    }\n",
       "\n",
       "    .dataframe tbody tr th {\n",
       "        vertical-align: top;\n",
       "    }\n",
       "\n",
       "    .dataframe thead th {\n",
       "        text-align: right;\n",
       "    }\n",
       "</style>\n",
       "<table border=\"1\" class=\"dataframe\">\n",
       "  <thead>\n",
       "    <tr style=\"text-align: right;\">\n",
       "      <th></th>\n",
       "      <th>Date valeur</th>\n",
       "      <th>Libelle operation</th>\n",
       "      <th>Référence</th>\n",
       "      <th>Date opération</th>\n",
       "      <th>Montant</th>\n",
       "    </tr>\n",
       "  </thead>\n",
       "  <tbody>\n",
       "  </tbody>\n",
       "</table>\n",
       "</div>"
      ],
      "text/plain": [
       "Empty DataFrame\n",
       "Columns: [Date valeur, Libelle operation, Référence, Date opération, Montant]\n",
       "Index: []"
      ]
     },
     "execution_count": 124,
     "metadata": {},
     "output_type": "execute_result"
    }
   ],
   "source": [
    "df"
   ]
  },
  {
   "cell_type": "code",
   "execution_count": 233,
   "id": "74f5fac9",
   "metadata": {},
   "outputs": [],
   "source": [
    "list_date_valeur=[]\n",
    "list_Libelle_operation=[]\n",
    "list_Reference=[]\n",
    "list_Date_opération=[]\n",
    "list_Montant=[]"
   ]
  },
  {
   "cell_type": "code",
   "execution_count": 234,
   "id": "fbbfc70e",
   "metadata": {},
   "outputs": [],
   "source": [
    "index=lines.index('Montant\\t')+1\n",
    "i=0\n",
    "list=[i for i in lines[index].split('\\t') if i]"
   ]
  },
  {
   "cell_type": "code",
   "execution_count": 235,
   "id": "90406cb5",
   "metadata": {},
   "outputs": [
    {
     "data": {
      "text/plain": [
       "25"
      ]
     },
     "execution_count": 235,
     "metadata": {},
     "output_type": "execute_result"
    }
   ],
   "source": [
    "index"
   ]
  },
  {
   "cell_type": "code",
   "execution_count": 236,
   "id": "09d6735d",
   "metadata": {},
   "outputs": [
    {
     "name": "stdout",
     "output_type": "stream",
     "text": [
      "27\n",
      "['Solde dC)part au 28 JUN 22', '28 JUN 22']\n",
      "thisisvalue TVA sur ComREF : NUM TCE : 6088602\n",
      "29\n",
      "['Solde dC)part au 28 JUN 22', '28 JUN 22', '28 JUN 22']\n",
      "30\n",
      "['Solde dC)part au 28 JUN 22', '28 JUN 22', '28 JUN 22', '29 JUN 22']\n",
      "thisisvalue Encaissement effet tunisie009344500529\n",
      "32\n",
      "['Solde dC)part au 28 JUN 22', '28 JUN 22', '28 JUN 22', '29 JUN 22', '29 JUN 22']\n",
      "thisisvalue Encaissement effet tunisie009140366260\n",
      "34\n",
      "['Solde dC)part au 28 JUN 22', '28 JUN 22', '28 JUN 22', '29 JUN 22', '29 JUN 22', '27 JUN 22']\n",
      "thisisvalue Reglement cheque no0001277 F/ AS TN DERMATOLOGIE\n",
      "thisisvalue Reglement cheque no0001277 F/ AS TN DERMATOLOGIEVENEROLOGI\n",
      "37\n",
      "['Solde dC)part au 28 JUN 22', '28 JUN 22', '28 JUN 22', '29 JUN 22', '29 JUN 22', '27 JUN 22', '30 JUN 22']\n",
      "thisisvalue Credit DiversChq Telec A Enc Cre Global/borde : 2980894\n",
      "39\n",
      "['Solde dC)part au 28 JUN 22', '28 JUN 22', '28 JUN 22', '29 JUN 22', '29 JUN 22', '27 JUN 22', '30 JUN 22', '24 JUN 22']\n",
      "thisisvalue Debit DiversCommission CHQ A Enc/Bordereau : 2980894\n",
      "41\n",
      "['Solde dC)part au 28 JUN 22', '28 JUN 22', '28 JUN 22', '29 JUN 22', '29 JUN 22', '27 JUN 22', '30 JUN 22', '24 JUN 22', '28 JUN 22']\n",
      "thisisvalue Reglement cheque no0001288 F/ SOCIETE 4MK DIGITAL\n",
      "thisisvalue Reglement cheque no0001288 F/ SOCIETE 4MK DIGITALPRINT\n",
      "44\n",
      "['Solde dC)part au 28 JUN 22', '28 JUN 22', '28 JUN 22', '29 JUN 22', '29 JUN 22', '27 JUN 22', '30 JUN 22', '24 JUN 22', '28 JUN 22', '29 JUN 22']\n",
      "thisisvalue Blocage de fondsRI2217900156 **\n"
     ]
    }
   ],
   "source": [
    "while index<len(lines)-3:\n",
    "    if len(list)==5:\n",
    "        list_date_valeur.append(list[0])\n",
    "        list_Libelle_operation.append(list[1])\n",
    "        list_Reference.append(list[2])\n",
    "        list_Date_opération.append(list[3])\n",
    "        list_Montant.append(list[4])\n",
    "        i=i+1\n",
    "        index=index+1\n",
    "        print(index)\n",
    "        print(list_date_valeur)\n",
    "        list = [j for j in lines[index].split('\\t') if j]\n",
    "    elif len(list)==2:\n",
    "        list_Libelle_operation.append(list[0])\n",
    "        list_Montant.append(list[1])\n",
    "        list_Reference.append('Nan')\n",
    "        list_Date_opération.append('Nan')\n",
    "        list_date_valeur.append(list[0])\n",
    "        i=i+1\n",
    "        index=index+1\n",
    "        list = [j for j in lines[index].split('\\t') if j]\n",
    "        \n",
    "            \n",
    "    elif len(list)==1:\n",
    "        if len(list_Libelle_operation)>=1:\n",
    "            \n",
    "            value=list_Libelle_operation[-1]+list[0]\n",
    "            print('thisisvalue',value)\n",
    "            list_Libelle_operation.pop()\n",
    "            list_Libelle_operation.append(value)\n",
    "            index=index+1\n",
    "            list = [j for j in lines[index].split('\\t') if j]\n",
    "            \n",
    "        else:\n",
    "            list_Libelle_operation.append(list[0])\n",
    "            index=index+1\n",
    "            list = [j for j in lines[index].split('\\t') if j]\n",
    "            \n",
    "    elif len(list)==0:\n",
    "        index=index+1\n",
    "        i=i+1\n",
    "        list = [j for j in lines[index].split('\\t') if j]\n",
    "    \n",
    "        \n",
    "    "
   ]
  },
  {
   "cell_type": "code",
   "execution_count": 196,
   "id": "8b1dc55a",
   "metadata": {
    "scrolled": true
   },
   "outputs": [
    {
     "data": {
      "text/plain": [
       "['Nan',\n",
       " 'CHG22179WON5O',\n",
       " 'CHG22179WON5O',\n",
       " 'FT22179504113046\\\\S98',\n",
       " 'FT22179598886344\\\\S98',\n",
       " 'FT22179034703388',\n",
       " 'FT22180500696836',\n",
       " 'FT22180902234108',\n",
       " 'FT22180830828911',\n",
       " 'FT22180774000390',\n",
       " 'Nan',\n",
       " 'Nan']"
      ]
     },
     "execution_count": 196,
     "metadata": {},
     "output_type": "execute_result"
    }
   ],
   "source": [
    "list_Reference"
   ]
  },
  {
   "cell_type": "code",
   "execution_count": 197,
   "id": "cea6a892",
   "metadata": {},
   "outputs": [
    {
     "data": {
      "text/plain": [
       "['Solde dC)part au 28 JUN 22',\n",
       " '28 JUN 22',\n",
       " '28 JUN 22',\n",
       " '29 JUN 22',\n",
       " '29 JUN 22',\n",
       " '27 JUN 22',\n",
       " '30 JUN 22',\n",
       " '24 JUN 22',\n",
       " '28 JUN 22',\n",
       " '29 JUN 22',\n",
       " 'Solde fin au 29 JUN 22 C  10:00',\n",
       " 'Solde disponible au 29 JUN 22 C  10:00']"
      ]
     },
     "execution_count": 197,
     "metadata": {},
     "output_type": "execute_result"
    }
   ],
   "source": [
    "list_date_valeur"
   ]
  },
  {
   "cell_type": "code",
   "execution_count": null,
   "id": "dcc088e9",
   "metadata": {},
   "outputs": [],
   "source": []
  },
  {
   "cell_type": "code",
   "execution_count": 198,
   "id": "97e1dd74",
   "metadata": {},
   "outputs": [
    {
     "data": {
      "text/plain": [
       "['Nan',\n",
       " 'CHG22179WON5O',\n",
       " 'CHG22179WON5O',\n",
       " 'FT22179504113046\\\\S98',\n",
       " 'FT22179598886344\\\\S98',\n",
       " 'FT22179034703388',\n",
       " 'FT22180500696836',\n",
       " 'FT22180902234108',\n",
       " 'FT22180830828911',\n",
       " 'FT22180774000390',\n",
       " 'Nan',\n",
       " 'Nan']"
      ]
     },
     "execution_count": 198,
     "metadata": {},
     "output_type": "execute_result"
    }
   ],
   "source": [
    "list_Reference"
   ]
  },
  {
   "cell_type": "code",
   "execution_count": 237,
   "id": "bb5b437a",
   "metadata": {},
   "outputs": [
    {
     "data": {
      "text/plain": [
       "12"
      ]
     },
     "execution_count": 237,
     "metadata": {},
     "output_type": "execute_result"
    }
   ],
   "source": [
    "len(list_Date_opération)"
   ]
  },
  {
   "cell_type": "code",
   "execution_count": 238,
   "id": "7e0f89aa",
   "metadata": {},
   "outputs": [
    {
     "data": {
      "text/plain": [
       "12"
      ]
     },
     "execution_count": 238,
     "metadata": {},
     "output_type": "execute_result"
    }
   ],
   "source": [
    "len(list_Montant)"
   ]
  },
  {
   "cell_type": "code",
   "execution_count": 239,
   "id": "c859b853",
   "metadata": {},
   "outputs": [
    {
     "data": {
      "text/plain": [
       "12"
      ]
     },
     "execution_count": 239,
     "metadata": {},
     "output_type": "execute_result"
    }
   ],
   "source": [
    "len(list_Libelle_operation)"
   ]
  },
  {
   "cell_type": "code",
   "execution_count": 240,
   "id": "dc04578f",
   "metadata": {},
   "outputs": [
    {
     "data": {
      "text/plain": [
       "12"
      ]
     },
     "execution_count": 240,
     "metadata": {},
     "output_type": "execute_result"
    }
   ],
   "source": [
    "len(list_Reference)"
   ]
  },
  {
   "cell_type": "code",
   "execution_count": 241,
   "id": "af0b570d",
   "metadata": {},
   "outputs": [
    {
     "data": {
      "text/plain": [
       "12"
      ]
     },
     "execution_count": 241,
     "metadata": {},
     "output_type": "execute_result"
    }
   ],
   "source": [
    "len(list_date_valeur)"
   ]
  },
  {
   "cell_type": "code",
   "execution_count": 248,
   "id": "a4056cf0",
   "metadata": {},
   "outputs": [],
   "source": [
    "df.insert(0, \"Montant\",list_Montant,allow_duplicates=True)\n",
    "df.insert(0, \"Date opération\",list_Date_opération,allow_duplicates=True)\n",
    "df.insert(0, \"Référence\",list_Reference,allow_duplicates=True)\n",
    "df.insert(0, \"Libelle operation\",list_Libelle_operation,allow_duplicates=True)\n",
    "df.insert(0, \"Date valeur\", list_date_valeur,allow_duplicates=True)"
   ]
  },
  {
   "cell_type": "code",
   "execution_count": 249,
   "id": "b3ef4a32",
   "metadata": {},
   "outputs": [
    {
     "data": {
      "text/html": [
       "<div>\n",
       "<style scoped>\n",
       "    .dataframe tbody tr th:only-of-type {\n",
       "        vertical-align: middle;\n",
       "    }\n",
       "\n",
       "    .dataframe tbody tr th {\n",
       "        vertical-align: top;\n",
       "    }\n",
       "\n",
       "    .dataframe thead th {\n",
       "        text-align: right;\n",
       "    }\n",
       "</style>\n",
       "<table border=\"1\" class=\"dataframe\">\n",
       "  <thead>\n",
       "    <tr style=\"text-align: right;\">\n",
       "      <th></th>\n",
       "      <th>Date valeur</th>\n",
       "      <th>Libelle operation</th>\n",
       "      <th>Référence</th>\n",
       "      <th>Date opération</th>\n",
       "      <th>Montant</th>\n",
       "    </tr>\n",
       "  </thead>\n",
       "  <tbody>\n",
       "    <tr>\n",
       "      <th>0</th>\n",
       "      <td>Solde dC)part au 28 JUN 22</td>\n",
       "      <td>Solde dC)part au 28 JUN 22</td>\n",
       "      <td>Nan</td>\n",
       "      <td>Nan</td>\n",
       "      <td>6 823 602,507</td>\n",
       "    </tr>\n",
       "    <tr>\n",
       "      <th>1</th>\n",
       "      <td>28 JUN 22</td>\n",
       "      <td>TVA sur ComREF : NUM TCE : 6088602</td>\n",
       "      <td>CHG22179WON5O</td>\n",
       "      <td>28 JUN 22</td>\n",
       "      <td>-1,900</td>\n",
       "    </tr>\n",
       "    <tr>\n",
       "      <th>2</th>\n",
       "      <td>28 JUN 22</td>\n",
       "      <td>COM DOM TCE</td>\n",
       "      <td>CHG22179WON5O</td>\n",
       "      <td>28 JUN 22</td>\n",
       "      <td>-10,000</td>\n",
       "    </tr>\n",
       "    <tr>\n",
       "      <th>3</th>\n",
       "      <td>29 JUN 22</td>\n",
       "      <td>Encaissement effet tunisie009344500529</td>\n",
       "      <td>FT22179504113046\\S98</td>\n",
       "      <td>28 JUN 22</td>\n",
       "      <td>25 445,101</td>\n",
       "    </tr>\n",
       "    <tr>\n",
       "      <th>4</th>\n",
       "      <td>29 JUN 22</td>\n",
       "      <td>Encaissement effet tunisie009140366260</td>\n",
       "      <td>FT22179598886344\\S98</td>\n",
       "      <td>28 JUN 22</td>\n",
       "      <td>192 197,564</td>\n",
       "    </tr>\n",
       "    <tr>\n",
       "      <th>5</th>\n",
       "      <td>27 JUN 22</td>\n",
       "      <td>Reglement cheque no0001277 F/ AS TN DERMATOLOG...</td>\n",
       "      <td>FT22179034703388</td>\n",
       "      <td>28 JUN 22</td>\n",
       "      <td>-6 000,000</td>\n",
       "    </tr>\n",
       "    <tr>\n",
       "      <th>6</th>\n",
       "      <td>30 JUN 22</td>\n",
       "      <td>Credit DiversChq Telec A Enc Cre Global/borde ...</td>\n",
       "      <td>FT22180500696836</td>\n",
       "      <td>29 JUN 22</td>\n",
       "      <td>99 763,824</td>\n",
       "    </tr>\n",
       "    <tr>\n",
       "      <th>7</th>\n",
       "      <td>24 JUN 22</td>\n",
       "      <td>Debit DiversCommission CHQ A Enc/Bordereau : 2...</td>\n",
       "      <td>FT22180902234108</td>\n",
       "      <td>29 JUN 22</td>\n",
       "      <td>-1,785</td>\n",
       "    </tr>\n",
       "    <tr>\n",
       "      <th>8</th>\n",
       "      <td>28 JUN 22</td>\n",
       "      <td>Reglement cheque no0001288 F/ SOCIETE 4MK DIGI...</td>\n",
       "      <td>FT22180830828911</td>\n",
       "      <td>29 JUN 22</td>\n",
       "      <td>-252,999</td>\n",
       "    </tr>\n",
       "    <tr>\n",
       "      <th>9</th>\n",
       "      <td>29 JUN 22</td>\n",
       "      <td>Blocage de fondsRI2217900156 **</td>\n",
       "      <td>FT22180774000390</td>\n",
       "      <td>29 JUN 22</td>\n",
       "      <td>-12 851,173</td>\n",
       "    </tr>\n",
       "    <tr>\n",
       "      <th>10</th>\n",
       "      <td>Solde fin au 29 JUN 22 C  10:00</td>\n",
       "      <td>Solde fin au 29 JUN 22 C  10:00</td>\n",
       "      <td>Nan</td>\n",
       "      <td>Nan</td>\n",
       "      <td>7 121 891,139</td>\n",
       "    </tr>\n",
       "    <tr>\n",
       "      <th>11</th>\n",
       "      <td>Solde disponible au 29 JUN 22 C  10:00</td>\n",
       "      <td>Solde disponible au 29 JUN 22 C  10:00</td>\n",
       "      <td>Nan</td>\n",
       "      <td>Nan</td>\n",
       "      <td>7 121 891,139</td>\n",
       "    </tr>\n",
       "  </tbody>\n",
       "</table>\n",
       "</div>"
      ],
      "text/plain": [
       "                               Date valeur  \\\n",
       "0               Solde dC)part au 28 JUN 22   \n",
       "1                                28 JUN 22   \n",
       "2                                28 JUN 22   \n",
       "3                                29 JUN 22   \n",
       "4                                29 JUN 22   \n",
       "5                                27 JUN 22   \n",
       "6                                30 JUN 22   \n",
       "7                                24 JUN 22   \n",
       "8                                28 JUN 22   \n",
       "9                                29 JUN 22   \n",
       "10         Solde fin au 29 JUN 22 C  10:00   \n",
       "11  Solde disponible au 29 JUN 22 C  10:00   \n",
       "\n",
       "                                    Libelle operation             Référence  \\\n",
       "0                          Solde dC)part au 28 JUN 22                   Nan   \n",
       "1                  TVA sur ComREF : NUM TCE : 6088602         CHG22179WON5O   \n",
       "2                                         COM DOM TCE         CHG22179WON5O   \n",
       "3              Encaissement effet tunisie009344500529  FT22179504113046\\S98   \n",
       "4              Encaissement effet tunisie009140366260  FT22179598886344\\S98   \n",
       "5   Reglement cheque no0001277 F/ AS TN DERMATOLOG...      FT22179034703388   \n",
       "6   Credit DiversChq Telec A Enc Cre Global/borde ...      FT22180500696836   \n",
       "7   Debit DiversCommission CHQ A Enc/Bordereau : 2...      FT22180902234108   \n",
       "8   Reglement cheque no0001288 F/ SOCIETE 4MK DIGI...      FT22180830828911   \n",
       "9                     Blocage de fondsRI2217900156 **      FT22180774000390   \n",
       "10                    Solde fin au 29 JUN 22 C  10:00                   Nan   \n",
       "11             Solde disponible au 29 JUN 22 C  10:00                   Nan   \n",
       "\n",
       "   Date opération        Montant  \n",
       "0             Nan  6 823 602,507  \n",
       "1       28 JUN 22         -1,900  \n",
       "2       28 JUN 22        -10,000  \n",
       "3       28 JUN 22     25 445,101  \n",
       "4       28 JUN 22    192 197,564  \n",
       "5       28 JUN 22     -6 000,000  \n",
       "6       29 JUN 22     99 763,824  \n",
       "7       29 JUN 22         -1,785  \n",
       "8       29 JUN 22       -252,999  \n",
       "9       29 JUN 22    -12 851,173  \n",
       "10            Nan  7 121 891,139  \n",
       "11            Nan  7 121 891,139  "
      ]
     },
     "execution_count": 249,
     "metadata": {},
     "output_type": "execute_result"
    }
   ],
   "source": [
    "df"
   ]
  },
  {
   "cell_type": "code",
   "execution_count": 250,
   "id": "36b13a52",
   "metadata": {},
   "outputs": [],
   "source": [
    "df.to_excel('BIAT.xlsx')"
   ]
  },
  {
   "cell_type": "code",
   "execution_count": null,
   "id": "bd950867",
   "metadata": {},
   "outputs": [],
   "source": []
  }
 ],
 "metadata": {
  "kernelspec": {
   "display_name": "Python 3 (ipykernel)",
   "language": "python",
   "name": "python3"
  },
  "language_info": {
   "codemirror_mode": {
    "name": "ipython",
    "version": 3
   },
   "file_extension": ".py",
   "mimetype": "text/x-python",
   "name": "python",
   "nbconvert_exporter": "python",
   "pygments_lexer": "ipython3",
   "version": "3.7.4"
  }
 },
 "nbformat": 4,
 "nbformat_minor": 5
}
