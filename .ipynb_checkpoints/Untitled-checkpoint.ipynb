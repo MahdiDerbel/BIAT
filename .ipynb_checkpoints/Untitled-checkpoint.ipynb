{
 "cells": [
  {
   "cell_type": "code",
   "execution_count": 84,
   "id": "14739263",
   "metadata": {},
   "outputs": [
    {
     "name": "stdout",
     "output_type": "stream",
     "text": [
      "\n",
      "Suite C  un renforcement de la sC)curitC) de votre site BIATNET, veuillez mettre C  jour votre navigateur Web en cas de problC(me db \u0019accC(s C  lb \u0019affichage de la page principale\n",
      " \n",
      "Mme BEN AMOR DORSAF\t\n",
      " \n",
      " \n",
      " \n",
      "Comptes / Placements\n",
      "Virements\n",
      "TC)lC)chargement\n",
      "Portefeuille\n",
      "International\n",
      "Autres\n",
      " \n",
      ".././plaf/images/BIAT/new/BiatEpargneDisponible.jpg\n",
      "\n",
      " \n",
      "Extrait de compte\t\n",
      "Compte numC)ro :\t51-10-97887/3\tSTE OPALIA PHARMA S.\n",
      "Devise :\tTND\n",
      "Date valeur\t\n",
      "LibellC) opC)ration\t\n",
      "RC)fC)rence\t\n",
      "Date opC)ration\t\n",
      "Montant\t\n",
      "Solde dC)part au 28 JUN 22\t\t\t6 823 602,507\n",
      "28 JUN 22\tTVA sur Com\tCHG22179WON5O\t28 JUN 22\t-1,900\n",
      "\t\t\n",
      "28 JUN 22\tCOM DOM TCE\tCHG22179WON5O\t28 JUN 22\t-10,000\n",
      "29 JUN 22\tEncaissement effet tunisie\tFT22179504113046\\S98\t28 JUN 22\t25 445,101\n",
      "009344500529\t\t\t\n",
      "29 JUN 22\tEncaissement effet tunisie\tFT22179598886344\\S98\t28 JUN 22\t192 197,564\n",
      "009140366260\t\t\t\n",
      "27 JUN 22\tReglement cheque no\tFT22179034703388\t28 JUN 22\t-6 000,000\n",
      "0001277 F/ AS TN DERMATOLOGIE\t\t\t\n",
      "VENEROLOGI\t\t\t\n",
      "30 JUN 22\tCredit Divers\tFT22180500696836\t29 JUN 22\t99 763,824\n",
      "Chq Telec A Enc Cre Global/borde : 2980894\t\t\t\n",
      "24 JUN 22\tDebit Divers\tFT22180902234108\t29 JUN 22\t-1,785\n",
      "Commission CHQ A Enc/Bordereau : 2980894\t\t\t\n",
      "28 JUN 22\tReglement cheque no\tFT22180830828911\t29 JUN 22\t-252,999\n",
      "0001288 F/ SOCIETE 4MK DIGITAL\t\t\t\n",
      "PRINT\t\t\t\n",
      "29 JUN 22\tBlocage de fonds\tFT22180774000390\t29 JUN 22\t-12 851,173\n",
      "RI2217900156 **\t\t\t\n",
      "Solde fin au 29 JUN 22 C  10:00\t\t\t7 121 891,139\n",
      "Solde disponible au 29 JUN 22 C  10:00\t\t\t7 121 891,139\n",
      "Sauf erreur ou omission de notre part\t\t\t\n",
      "\n",
      "BIATB) 2015. Tous les droits sont rC)servC)s.\n"
     ]
    }
   ],
   "source": [
    "f = open(\"BIAT.txt\", \"r\")\n",
    "print(f.read())"
   ]
  },
  {
   "cell_type": "code",
   "execution_count": 85,
   "id": "69e9d43e",
   "metadata": {
    "scrolled": true
   },
   "outputs": [
    {
     "name": "stdout",
     "output_type": "stream",
     "text": [
      "['', 'Suite C  un renforcement de la sC)curitC) de votre site BIATNET, veuillez mettre C  jour votre navigateur Web en cas de problC(me db \\x19accC(s C  lb \\x19affichage de la page principale', ' ', 'Mme BEN AMOR DORSAF\\t', ' ', ' ', ' ', 'Comptes / Placements', 'Virements', 'TC)lC)chargement', 'Portefeuille', 'International', 'Autres', ' ', '.././plaf/images/BIAT/new/BiatEpargneDisponible.jpg', '', ' ', 'Extrait de compte\\t', 'Compte numC)ro :\\t51-10-97887/3\\tSTE OPALIA PHARMA S.', 'Devise :\\tTND', 'Date valeur\\t', 'LibellC) opC)ration\\t', 'RC)fC)rence\\t', 'Date opC)ration\\t', 'Montant\\t', 'Solde dC)part au 28 JUN 22\\t\\t\\t6 823 602,507', '28 JUN 22\\tTVA sur Com\\tCHG22179WON5O\\t28 JUN 22\\t-1,900', '\\t\\t', '28 JUN 22\\tCOM DOM TCE\\tCHG22179WON5O\\t28 JUN 22\\t-10,000', '29 JUN 22\\tEncaissement effet tunisie\\tFT22179504113046\\\\S98\\t28 JUN 22\\t25 445,101', '009344500529\\t\\t\\t', '29 JUN 22\\tEncaissement effet tunisie\\tFT22179598886344\\\\S98\\t28 JUN 22\\t192 197,564', '009140366260\\t\\t\\t', '27 JUN 22\\tReglement cheque no\\tFT22179034703388\\t28 JUN 22\\t-6 000,000', '0001277 F/ AS TN DERMATOLOGIE\\t\\t\\t', 'VENEROLOGI\\t\\t\\t', '30 JUN 22\\tCredit Divers\\tFT22180500696836\\t29 JUN 22\\t99 763,824', 'Chq Telec A Enc Cre Global/borde : 2980894\\t\\t\\t', '24 JUN 22\\tDebit Divers\\tFT22180902234108\\t29 JUN 22\\t-1,785', 'Commission CHQ A Enc/Bordereau : 2980894\\t\\t\\t', '28 JUN 22\\tReglement cheque no\\tFT22180830828911\\t29 JUN 22\\t-252,999', '0001288 F/ SOCIETE 4MK DIGITAL\\t\\t\\t', 'PRINT\\t\\t\\t', '29 JUN 22\\tBlocage de fonds\\tFT22180774000390\\t29 JUN 22\\t-12 851,173', 'RI2217900156 **\\t\\t\\t', 'Solde fin au 29 JUN 22 C  10:00\\t\\t\\t7 121 891,139', 'Solde disponible au 29 JUN 22 C  10:00\\t\\t\\t7 121 891,139', 'Sauf erreur ou omission de notre part\\t\\t\\t', '', 'BIATB) 2015. Tous les droits sont rC)servC)s.']\n"
     ]
    }
   ],
   "source": [
    "file_obj = open(\"BIAT.txt\", \"r\")\n",
    "  \n",
    "# reading the data from the file\n",
    "file_data = file_obj.read()\n",
    "  \n",
    "# splitting the file data into lines\n",
    "lines = file_data.splitlines()\n",
    "print(lines)\n",
    "file_obj.close()"
   ]
  },
  {
   "cell_type": "code",
   "execution_count": 60,
   "id": "3651ce28",
   "metadata": {},
   "outputs": [
    {
     "data": {
      "text/plain": [
       "'Sauf erreur ou omission de notre part\\t\\t\\t'"
      ]
     },
     "execution_count": 60,
     "metadata": {},
     "output_type": "execute_result"
    }
   ],
   "source": [
    "lines[47]"
   ]
  },
  {
   "cell_type": "code",
   "execution_count": 86,
   "id": "c673c514",
   "metadata": {},
   "outputs": [
    {
     "data": {
      "text/plain": [
       "24"
      ]
     },
     "execution_count": 86,
     "metadata": {},
     "output_type": "execute_result"
    }
   ],
   "source": [
    "lines.index('Montant\\t')"
   ]
  },
  {
   "cell_type": "code",
   "execution_count": 21,
   "id": "2abd3601",
   "metadata": {},
   "outputs": [],
   "source": [
    "import pandas as pd\n",
    "import openpyxl"
   ]
  },
  {
   "cell_type": "code",
   "execution_count": 22,
   "id": "2cb4c551",
   "metadata": {},
   "outputs": [],
   "source": [
    "df = pd.DataFrame()"
   ]
  },
  {
   "cell_type": "code",
   "execution_count": 50,
   "id": "e0939d5d",
   "metadata": {},
   "outputs": [
    {
     "data": {
      "text/plain": [
       "['Solde disponible au 29 JUN 22 C  10:00', '', '', '7 121 891,139']"
      ]
     },
     "execution_count": 50,
     "metadata": {},
     "output_type": "execute_result"
    }
   ],
   "source": [
    "list=lines[46].split('\\t')\n",
    "list"
   ]
  },
  {
   "cell_type": "code",
   "execution_count": 53,
   "id": "3404dfa2",
   "metadata": {},
   "outputs": [
    {
     "data": {
      "text/plain": [
       "['Solde dC)part au 28 JUN 22', '', '', '6 823 602,507']"
      ]
     },
     "execution_count": 53,
     "metadata": {},
     "output_type": "execute_result"
    }
   ],
   "source": [
    "list=lines[index+1].split('\\t')\n",
    "list"
   ]
  },
  {
   "cell_type": "code",
   "execution_count": 32,
   "id": "d1d3af0e",
   "metadata": {},
   "outputs": [
    {
     "data": {
      "text/plain": [
       "['Solde dC)part au 28 JUN 22\\t\\t\\t6 823 602,507']"
      ]
     },
     "execution_count": 32,
     "metadata": {},
     "output_type": "execute_result"
    }
   ],
   "source": [
    "lines[25].splitlines()"
   ]
  },
  {
   "cell_type": "code",
   "execution_count": 24,
   "id": "d276ea46",
   "metadata": {},
   "outputs": [
    {
     "name": "stdout",
     "output_type": "stream",
     "text": [
      "Empty DataFrame\n",
      "Columns: []\n",
      "Index: []\n"
     ]
    }
   ],
   "source": [
    "print(df)"
   ]
  },
  {
   "cell_type": "code",
   "execution_count": 27,
   "id": "06f33e7b",
   "metadata": {},
   "outputs": [],
   "source": [
    "df = pd.DataFrame(columns=['Date valeur','Libelle operation','Référence','Date opération','Montant'])"
   ]
  },
  {
   "cell_type": "code",
   "execution_count": 28,
   "id": "9fc5b5a2",
   "metadata": {},
   "outputs": [
    {
     "data": {
      "text/html": [
       "<div>\n",
       "<style scoped>\n",
       "    .dataframe tbody tr th:only-of-type {\n",
       "        vertical-align: middle;\n",
       "    }\n",
       "\n",
       "    .dataframe tbody tr th {\n",
       "        vertical-align: top;\n",
       "    }\n",
       "\n",
       "    .dataframe thead th {\n",
       "        text-align: right;\n",
       "    }\n",
       "</style>\n",
       "<table border=\"1\" class=\"dataframe\">\n",
       "  <thead>\n",
       "    <tr style=\"text-align: right;\">\n",
       "      <th></th>\n",
       "      <th>Date valeur</th>\n",
       "      <th>Libelle operation</th>\n",
       "      <th>Référence</th>\n",
       "      <th>Date opération</th>\n",
       "      <th>Montant</th>\n",
       "    </tr>\n",
       "  </thead>\n",
       "  <tbody>\n",
       "  </tbody>\n",
       "</table>\n",
       "</div>"
      ],
      "text/plain": [
       "Empty DataFrame\n",
       "Columns: [Date valeur, Libelle operation, Référence, Date opération, Montant]\n",
       "Index: []"
      ]
     },
     "execution_count": 28,
     "metadata": {},
     "output_type": "execute_result"
    }
   ],
   "source": [
    "df"
   ]
  },
  {
   "cell_type": "code",
   "execution_count": 95,
   "id": "fc5c17ad",
   "metadata": {},
   "outputs": [],
   "source": [
    "index=lines.index('Montant\\t')"
   ]
  },
  {
   "cell_type": "code",
   "execution_count": 88,
   "id": "62aebd8b",
   "metadata": {},
   "outputs": [
    {
     "data": {
      "text/plain": [
       "['', '', '']"
      ]
     },
     "execution_count": 88,
     "metadata": {},
     "output_type": "execute_result"
    }
   ],
   "source": [
    "lines[index+3].split('\\t')"
   ]
  },
  {
   "cell_type": "code",
   "execution_count": 94,
   "id": "a660d549",
   "metadata": {},
   "outputs": [
    {
     "data": {
      "text/html": [
       "<div>\n",
       "<style scoped>\n",
       "    .dataframe tbody tr th:only-of-type {\n",
       "        vertical-align: middle;\n",
       "    }\n",
       "\n",
       "    .dataframe tbody tr th {\n",
       "        vertical-align: top;\n",
       "    }\n",
       "\n",
       "    .dataframe thead th {\n",
       "        text-align: right;\n",
       "    }\n",
       "</style>\n",
       "<table border=\"1\" class=\"dataframe\">\n",
       "  <thead>\n",
       "    <tr style=\"text-align: right;\">\n",
       "      <th></th>\n",
       "      <th>Date valeur</th>\n",
       "      <th>Libelle operation</th>\n",
       "      <th>Référence</th>\n",
       "      <th>Date opération</th>\n",
       "      <th>Montant</th>\n",
       "    </tr>\n",
       "  </thead>\n",
       "  <tbody>\n",
       "  </tbody>\n",
       "</table>\n",
       "</div>"
      ],
      "text/plain": [
       "Empty DataFrame\n",
       "Columns: [Date valeur, Libelle operation, Référence, Date opération, Montant]\n",
       "Index: []"
      ]
     },
     "execution_count": 94,
     "metadata": {},
     "output_type": "execute_result"
    }
   ],
   "source": [
    "df"
   ]
  },
  {
   "cell_type": "code",
   "execution_count": 97,
   "id": "d872addc",
   "metadata": {},
   "outputs": [],
   "source": [
    "test_list = [j for j in lines[index+3].split('\\t') if j]"
   ]
  },
  {
   "cell_type": "code",
   "execution_count": 98,
   "id": "3e6c89b1",
   "metadata": {},
   "outputs": [
    {
     "data": {
      "text/plain": [
       "0"
      ]
     },
     "execution_count": 98,
     "metadata": {},
     "output_type": "execute_result"
    }
   ],
   "source": [
    "len(test_list)"
   ]
  },
  {
   "cell_type": "code",
   "execution_count": 107,
   "id": "6484f952",
   "metadata": {
    "scrolled": true
   },
   "outputs": [
    {
     "ename": "IndexError",
     "evalue": "index out of bounds",
     "output_type": "error",
     "traceback": [
      "\u001b[1;31m---------------------------------------------------------------------------\u001b[0m",
      "\u001b[1;31mKeyError\u001b[0m                                  Traceback (most recent call last)",
      "\u001b[1;32m~\\AppData\\Roaming\\Python\\Python37\\site-packages\\pandas\\core\\indexes\\base.py\u001b[0m in \u001b[0;36mget_value\u001b[1;34m(self, series, key)\u001b[0m\n\u001b[0;32m   4404\u001b[0m         \u001b[1;32mtry\u001b[0m\u001b[1;33m:\u001b[0m\u001b[1;33m\u001b[0m\u001b[1;33m\u001b[0m\u001b[0m\n\u001b[1;32m-> 4405\u001b[1;33m             \u001b[1;32mreturn\u001b[0m \u001b[0mself\u001b[0m\u001b[1;33m.\u001b[0m\u001b[0m_engine\u001b[0m\u001b[1;33m.\u001b[0m\u001b[0mget_value\u001b[0m\u001b[1;33m(\u001b[0m\u001b[0ms\u001b[0m\u001b[1;33m,\u001b[0m \u001b[0mk\u001b[0m\u001b[1;33m,\u001b[0m \u001b[0mtz\u001b[0m\u001b[1;33m=\u001b[0m\u001b[0mgetattr\u001b[0m\u001b[1;33m(\u001b[0m\u001b[0mseries\u001b[0m\u001b[1;33m.\u001b[0m\u001b[0mdtype\u001b[0m\u001b[1;33m,\u001b[0m \u001b[1;34m\"tz\"\u001b[0m\u001b[1;33m,\u001b[0m \u001b[1;32mNone\u001b[0m\u001b[1;33m)\u001b[0m\u001b[1;33m)\u001b[0m\u001b[1;33m\u001b[0m\u001b[1;33m\u001b[0m\u001b[0m\n\u001b[0m\u001b[0;32m   4406\u001b[0m         \u001b[1;32mexcept\u001b[0m \u001b[0mKeyError\u001b[0m \u001b[1;32mas\u001b[0m \u001b[0me1\u001b[0m\u001b[1;33m:\u001b[0m\u001b[1;33m\u001b[0m\u001b[1;33m\u001b[0m\u001b[0m\n",
      "\u001b[1;32mpandas\\_libs\\index.pyx\u001b[0m in \u001b[0;36mpandas._libs.index.IndexEngine.get_value\u001b[1;34m()\u001b[0m\n",
      "\u001b[1;32mpandas\\_libs\\index.pyx\u001b[0m in \u001b[0;36mpandas._libs.index.IndexEngine.get_value\u001b[1;34m()\u001b[0m\n",
      "\u001b[1;32mpandas\\_libs\\index.pyx\u001b[0m in \u001b[0;36mpandas._libs.index.IndexEngine.get_loc\u001b[1;34m()\u001b[0m\n",
      "\u001b[1;32mpandas\\_libs\\hashtable_class_helper.pxi\u001b[0m in \u001b[0;36mpandas._libs.hashtable.PyObjectHashTable.get_item\u001b[1;34m()\u001b[0m\n",
      "\u001b[1;32mpandas\\_libs\\hashtable_class_helper.pxi\u001b[0m in \u001b[0;36mpandas._libs.hashtable.PyObjectHashTable.get_item\u001b[1;34m()\u001b[0m\n",
      "\u001b[1;31mKeyError\u001b[0m: 0",
      "\nDuring handling of the above exception, another exception occurred:\n",
      "\u001b[1;31mIndexError\u001b[0m                                Traceback (most recent call last)",
      "\u001b[1;32m~\\AppData\\Local\\Temp\\ipykernel_22160\\1081983730.py\u001b[0m in \u001b[0;36m<module>\u001b[1;34m\u001b[0m\n\u001b[1;32m----> 1\u001b[1;33m \u001b[0mdf\u001b[0m\u001b[1;33m[\u001b[0m\u001b[1;34m'Libelle operation'\u001b[0m\u001b[1;33m]\u001b[0m\u001b[1;33m[\u001b[0m\u001b[1;36m0\u001b[0m\u001b[1;33m]\u001b[0m\u001b[1;33m\u001b[0m\u001b[1;33m\u001b[0m\u001b[0m\n\u001b[0m",
      "\u001b[1;32m~\\AppData\\Roaming\\Python\\Python37\\site-packages\\pandas\\core\\series.py\u001b[0m in \u001b[0;36m__getitem__\u001b[1;34m(self, key)\u001b[0m\n\u001b[0;32m    869\u001b[0m         \u001b[0mkey\u001b[0m \u001b[1;33m=\u001b[0m \u001b[0mcom\u001b[0m\u001b[1;33m.\u001b[0m\u001b[0mapply_if_callable\u001b[0m\u001b[1;33m(\u001b[0m\u001b[0mkey\u001b[0m\u001b[1;33m,\u001b[0m \u001b[0mself\u001b[0m\u001b[1;33m)\u001b[0m\u001b[1;33m\u001b[0m\u001b[1;33m\u001b[0m\u001b[0m\n\u001b[0;32m    870\u001b[0m         \u001b[1;32mtry\u001b[0m\u001b[1;33m:\u001b[0m\u001b[1;33m\u001b[0m\u001b[1;33m\u001b[0m\u001b[0m\n\u001b[1;32m--> 871\u001b[1;33m             \u001b[0mresult\u001b[0m \u001b[1;33m=\u001b[0m \u001b[0mself\u001b[0m\u001b[1;33m.\u001b[0m\u001b[0mindex\u001b[0m\u001b[1;33m.\u001b[0m\u001b[0mget_value\u001b[0m\u001b[1;33m(\u001b[0m\u001b[0mself\u001b[0m\u001b[1;33m,\u001b[0m \u001b[0mkey\u001b[0m\u001b[1;33m)\u001b[0m\u001b[1;33m\u001b[0m\u001b[1;33m\u001b[0m\u001b[0m\n\u001b[0m\u001b[0;32m    872\u001b[0m \u001b[1;33m\u001b[0m\u001b[0m\n\u001b[0;32m    873\u001b[0m             \u001b[1;32mif\u001b[0m \u001b[1;32mnot\u001b[0m \u001b[0mis_scalar\u001b[0m\u001b[1;33m(\u001b[0m\u001b[0mresult\u001b[0m\u001b[1;33m)\u001b[0m\u001b[1;33m:\u001b[0m\u001b[1;33m\u001b[0m\u001b[1;33m\u001b[0m\u001b[0m\n",
      "\u001b[1;32m~\\AppData\\Roaming\\Python\\Python37\\site-packages\\pandas\\core\\indexes\\base.py\u001b[0m in \u001b[0;36mget_value\u001b[1;34m(self, series, key)\u001b[0m\n\u001b[0;32m   4409\u001b[0m \u001b[1;33m\u001b[0m\u001b[0m\n\u001b[0;32m   4410\u001b[0m             \u001b[1;32mtry\u001b[0m\u001b[1;33m:\u001b[0m\u001b[1;33m\u001b[0m\u001b[1;33m\u001b[0m\u001b[0m\n\u001b[1;32m-> 4411\u001b[1;33m                 \u001b[1;32mreturn\u001b[0m \u001b[0mlibindex\u001b[0m\u001b[1;33m.\u001b[0m\u001b[0mget_value_at\u001b[0m\u001b[1;33m(\u001b[0m\u001b[0ms\u001b[0m\u001b[1;33m,\u001b[0m \u001b[0mkey\u001b[0m\u001b[1;33m)\u001b[0m\u001b[1;33m\u001b[0m\u001b[1;33m\u001b[0m\u001b[0m\n\u001b[0m\u001b[0;32m   4412\u001b[0m             \u001b[1;32mexcept\u001b[0m \u001b[0mIndexError\u001b[0m\u001b[1;33m:\u001b[0m\u001b[1;33m\u001b[0m\u001b[1;33m\u001b[0m\u001b[0m\n\u001b[0;32m   4413\u001b[0m                 \u001b[1;32mraise\u001b[0m\u001b[1;33m\u001b[0m\u001b[1;33m\u001b[0m\u001b[0m\n",
      "\u001b[1;32mpandas\\_libs\\index.pyx\u001b[0m in \u001b[0;36mpandas._libs.index.get_value_at\u001b[1;34m()\u001b[0m\n",
      "\u001b[1;32mpandas\\_libs\\index.pyx\u001b[0m in \u001b[0;36mpandas._libs.index.get_value_at\u001b[1;34m()\u001b[0m\n",
      "\u001b[1;32mpandas\\_libs\\util.pxd\u001b[0m in \u001b[0;36mpandas._libs.util.get_value_at\u001b[1;34m()\u001b[0m\n",
      "\u001b[1;32mpandas\\_libs\\util.pxd\u001b[0m in \u001b[0;36mpandas._libs.util.validate_indexer\u001b[1;34m()\u001b[0m\n",
      "\u001b[1;31mIndexError\u001b[0m: index out of bounds"
     ]
    }
   ],
   "source": [
    "df['Libelle operation'][0]"
   ]
  },
  {
   "cell_type": "code",
   "execution_count": null,
   "id": "3ae1b586",
   "metadata": {},
   "outputs": [],
   "source": [
    "df.insert(0, \"col0\", list[0], index=i))"
   ]
  },
  {
   "cell_type": "code",
   "execution_count": null,
   "id": "c4ee011e",
   "metadata": {},
   "outputs": [],
   "source": [
    "list_date_valeur=[]\n",
    "list_Libelle_operation=[]\n",
    "list_Reference=[]\n",
    "list_Date_opération=[]\n",
    "list_Montant=[]"
   ]
  },
  {
   "cell_type": "code",
   "execution_count": null,
   "id": "b37e0d74",
   "metadata": {},
   "outputs": [],
   "source": [
    "index=lines.index('Montant\\t')\n",
    "i=0\n",
    "list=[i for i in lines[index+1].split('\\t') if i]\n",
    "print(list)\n",
    "while index<len(lines):\n",
    "    if len(list)==5:\n",
    "        list=lines[index].split('\\t')\n",
    "        list_date_valeur.append(list[0])\n",
    "        list_Libelle_operation.append(list[1])\n",
    "        list_Reference.append(list[2])\n",
    "        list_Date_opération.append(list[3])\n",
    "        list_Montant.append(list[4])\n",
    "        i=i+1\n",
    "        index=index+1\n",
    "        list = [j for j in lines[index].split('\\t') if j]\n",
    "    elif len(list)==2:\n",
    "        list_Libelle_operation.append(list[0])\n",
    "        list_Montant.append(list[1])\n",
    "        i=i+1\n",
    "        index=index+1\n",
    "        list = [j for j in lines[index].split('\\t') if j]\n",
    "    elif len(list)==1:\n",
    "        list_Libelle_operation.append(list[0])\n",
    "    elif len(list)==0:\n",
    "        index=index+1\n",
    "        i=i+1\n",
    "        list = [j for j in lines[index].split('\\t') if j]\n",
    "    \n",
    "        \n",
    "    "
   ]
  },
  {
   "cell_type": "code",
   "execution_count": null,
   "id": "9c8e504a",
   "metadata": {},
   "outputs": [],
   "source": [
    "list_date_valeur"
   ]
  },
  {
   "cell_type": "code",
   "execution_count": null,
   "id": "6d7c3eb5",
   "metadata": {},
   "outputs": [],
   "source": [
    "df.insert(0, \"Date valeur\", [100, 100], allow_duplicates=True)"
   ]
  }
 ],
 "metadata": {
  "kernelspec": {
   "display_name": "Python 3 (ipykernel)",
   "language": "python",
   "name": "python3"
  },
  "language_info": {
   "codemirror_mode": {
    "name": "ipython",
    "version": 3
   },
   "file_extension": ".py",
   "mimetype": "text/x-python",
   "name": "python",
   "nbconvert_exporter": "python",
   "pygments_lexer": "ipython3",
   "version": "3.7.4"
  }
 },
 "nbformat": 4,
 "nbformat_minor": 5
}
